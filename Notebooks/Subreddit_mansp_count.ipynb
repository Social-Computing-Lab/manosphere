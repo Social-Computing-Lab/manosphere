{
 "cells": [
  {
   "cell_type": "code",
   "execution_count": 4,
   "id": "c5399186",
   "metadata": {},
   "outputs": [],
   "source": [
    "import os\n",
    "import glob\n",
    "import pandas as pd"
   ]
  },
  {
   "cell_type": "code",
   "execution_count": 5,
   "id": "e00d107c",
   "metadata": {},
   "outputs": [],
   "source": [
    "data_dir = \"../data/primary/top_user_activity/\""
   ]
  },
  {
   "cell_type": "code",
   "execution_count": 31,
   "id": "822a45a8",
   "metadata": {},
   "outputs": [],
   "source": [
    "count_df = pd.DataFrame(columns=[\"subreddit\", \"author_count\"])"
   ]
  },
  {
   "cell_type": "code",
   "execution_count": 32,
   "id": "c2ed41c9",
   "metadata": {},
   "outputs": [
    {
     "name": "stdout",
     "output_type": "stream",
     "text": [
      "../data/primary/top_user_activity/posts/RS_2017-10.csv\n",
      "../data/primary/top_user_activity/posts/RS_2018-10.csv\n",
      "../data/primary/top_user_activity/posts/RS_2019-04.csv\n",
      "../data/primary/top_user_activity/posts/RS_2017-11.csv\n",
      "../data/primary/top_user_activity/posts/RS_2018-12.csv\n",
      "../data/primary/top_user_activity/posts/RS_2018-05.csv\n",
      "../data/primary/top_user_activity/posts/RS_2017-12.csv\n",
      "../data/primary/top_user_activity/posts/RS_2019-05.csv\n",
      "../data/primary/top_user_activity/posts/RS_2017-08.csv\n",
      "../data/primary/top_user_activity/posts/RS_2018-09.csv\n",
      "../data/primary/top_user_activity/posts/RS_2018-03.csv\n",
      "../data/primary/top_user_activity/posts/RS_2017-09.csv\n",
      "../data/primary/top_user_activity/posts/RS_2019-06.csv\n",
      "../data/primary/top_user_activity/posts/RS_2018-11.csv\n",
      "../data/primary/top_user_activity/posts/RS_2018-01.csv\n",
      "../data/primary/top_user_activity/posts/RS_2019-02.csv\n",
      "../data/primary/top_user_activity/posts/RS_2019-03.csv\n",
      "../data/primary/top_user_activity/posts/RS_2019-01.csv\n",
      "../data/primary/top_user_activity/posts/RS_2017-07.csv\n",
      "../data/primary/top_user_activity/posts/RS_2018-02.csv\n",
      "../data/primary/top_user_activity/posts/RS_2018-07.csv\n",
      "../data/primary/top_user_activity/posts/RS_2018-06.csv\n",
      "../data/primary/top_user_activity/posts/RS_2018-08.csv\n",
      "../data/primary/top_user_activity/posts/RS_2018-04.csv\n"
     ]
    }
   ],
   "source": [
    "#posts\n",
    "csv_files = glob.glob(os.path.join(data_dir, \"posts\", \"*.csv\"))\n",
    "for csv_file in csv_files:\n",
    "    print(csv_file)\n",
    "    data_df = pd.read_csv(csv_file, usecols=[\"author\", \"subreddit\"])\n",
    "    data_df.drop_duplicates(inplace=True)\n",
    "    data_df = data_df.groupby(\"subreddit\").count().reset_index()\n",
    "    data_df.rename(columns={\"author\": \"author_count\"}, inplace=True)\n",
    "    count_df = pd.concat([count_df, data_df])\n",
    "    del data_df"
   ]
  },
  {
   "cell_type": "code",
   "execution_count": 33,
   "id": "dad97b1a",
   "metadata": {},
   "outputs": [
    {
     "name": "stdout",
     "output_type": "stream",
     "text": [
      "../data/primary/top_user_activity/comments/RC_2018-05.csv\n",
      "../data/primary/top_user_activity/comments/RC_2018-03.csv\n",
      "../data/primary/top_user_activity/comments/RC_2018-08.csv\n",
      "../data/primary/top_user_activity/comments/RC_2018-10.csv\n",
      "../data/primary/top_user_activity/comments/RC_2018-07.csv\n",
      "../data/primary/top_user_activity/comments/RC_2019-01.csv\n",
      "../data/primary/top_user_activity/comments/RC_2018-04.csv\n",
      "../data/primary/top_user_activity/comments/RC_2018-09.csv\n",
      "../data/primary/top_user_activity/comments/RC_2019-04.csv\n",
      "../data/primary/top_user_activity/comments/RC_2017-07.csv\n",
      "../data/primary/top_user_activity/comments/RC_2019-02.csv\n",
      "../data/primary/top_user_activity/comments/RC_2018-02.csv\n",
      "../data/primary/top_user_activity/comments/RC_2017-08.csv\n",
      "../data/primary/top_user_activity/comments/RC_2017-09.csv\n",
      "../data/primary/top_user_activity/comments/RC_2019-06.csv\n",
      "../data/primary/top_user_activity/comments/RC_2019-03.csv\n",
      "../data/primary/top_user_activity/comments/RC_2017-10.csv\n",
      "../data/primary/top_user_activity/comments/RC_2018-06.csv\n",
      "../data/primary/top_user_activity/comments/RC_2018-12.csv\n",
      "../data/primary/top_user_activity/comments/RC_2018-11.csv\n",
      "../data/primary/top_user_activity/comments/RC_2017-11.csv\n",
      "../data/primary/top_user_activity/comments/RC_2018-01.csv\n",
      "../data/primary/top_user_activity/comments/RC_2017-12.csv\n",
      "../data/primary/top_user_activity/comments/RC_2019-05.csv\n"
     ]
    }
   ],
   "source": [
    "#comments\n",
    "csv_files = glob.glob(os.path.join(data_dir, \"comments\", \"*.csv\"))\n",
    "for csv_file in csv_files:\n",
    "    print(csv_file)\n",
    "    data_df = pd.read_csv(csv_file, usecols=[\"author\", \"subreddit\"])\n",
    "    data_df.drop_duplicates(inplace=True)\n",
    "    data_df = data_df.groupby(\"subreddit\").count().reset_index()\n",
    "    data_df.rename(columns={\"author\": \"author_count\"}, inplace=True)\n",
    "    count_df = pd.concat([count_df, data_df])\n",
    "    del data_df"
   ]
  },
  {
   "cell_type": "code",
   "execution_count": 34,
   "id": "bb6ea34e",
   "metadata": {},
   "outputs": [],
   "source": [
    "count_df = count_df.groupby(\"subreddit\").sum().reset_index()"
   ]
  },
  {
   "cell_type": "code",
   "execution_count": 37,
   "id": "c286efc7",
   "metadata": {},
   "outputs": [
    {
     "data": {
      "text/html": [
       "<div>\n",
       "<style scoped>\n",
       "    .dataframe tbody tr th:only-of-type {\n",
       "        vertical-align: middle;\n",
       "    }\n",
       "\n",
       "    .dataframe tbody tr th {\n",
       "        vertical-align: top;\n",
       "    }\n",
       "\n",
       "    .dataframe thead th {\n",
       "        text-align: right;\n",
       "    }\n",
       "</style>\n",
       "<table border=\"1\" class=\"dataframe\">\n",
       "  <thead>\n",
       "    <tr style=\"text-align: right;\">\n",
       "      <th></th>\n",
       "      <th>subreddit</th>\n",
       "      <th>author_count</th>\n",
       "    </tr>\n",
       "  </thead>\n",
       "  <tbody>\n",
       "    <tr>\n",
       "      <th>4050</th>\n",
       "      <td>AskReddit</td>\n",
       "      <td>282755</td>\n",
       "    </tr>\n",
       "    <tr>\n",
       "      <th>28654</th>\n",
       "      <td>MGTOW</td>\n",
       "      <td>163912</td>\n",
       "    </tr>\n",
       "    <tr>\n",
       "      <th>66646</th>\n",
       "      <td>funny</td>\n",
       "      <td>112146</td>\n",
       "    </tr>\n",
       "    <tr>\n",
       "      <th>78919</th>\n",
       "      <td>pics</td>\n",
       "      <td>109607</td>\n",
       "    </tr>\n",
       "    <tr>\n",
       "      <th>87512</th>\n",
       "      <td>todayilearned</td>\n",
       "      <td>101514</td>\n",
       "    </tr>\n",
       "    <tr>\n",
       "      <th>...</th>\n",
       "      <td>...</td>\n",
       "      <td>...</td>\n",
       "    </tr>\n",
       "    <tr>\n",
       "      <th>69501</th>\n",
       "      <td>hulkhogan</td>\n",
       "      <td>1</td>\n",
       "    </tr>\n",
       "    <tr>\n",
       "      <th>25397</th>\n",
       "      <td>JuelzVentura</td>\n",
       "      <td>1</td>\n",
       "    </tr>\n",
       "    <tr>\n",
       "      <th>25396</th>\n",
       "      <td>JuditGuerra</td>\n",
       "      <td>1</td>\n",
       "    </tr>\n",
       "    <tr>\n",
       "      <th>69504</th>\n",
       "      <td>human_nature</td>\n",
       "      <td>1</td>\n",
       "    </tr>\n",
       "    <tr>\n",
       "      <th>102469</th>\n",
       "      <td>zzzzzzzzzzzzzzzzzzzz</td>\n",
       "      <td>1</td>\n",
       "    </tr>\n",
       "  </tbody>\n",
       "</table>\n",
       "<p>102470 rows × 2 columns</p>\n",
       "</div>"
      ],
      "text/plain": [
       "                   subreddit  author_count\n",
       "4050               AskReddit        282755\n",
       "28654                  MGTOW        163912\n",
       "66646                  funny        112146\n",
       "78919                   pics        109607\n",
       "87512          todayilearned        101514\n",
       "...                      ...           ...\n",
       "69501              hulkhogan             1\n",
       "25397           JuelzVentura             1\n",
       "25396            JuditGuerra             1\n",
       "69504           human_nature             1\n",
       "102469  zzzzzzzzzzzzzzzzzzzz             1\n",
       "\n",
       "[102470 rows x 2 columns]"
      ]
     },
     "execution_count": 37,
     "metadata": {},
     "output_type": "execute_result"
    }
   ],
   "source": [
    "count_df.sort_values([\"author_count\"], ascending=False, inplace=True)\n",
    "count_df"
   ]
  },
  {
   "cell_type": "code",
   "execution_count": 38,
   "id": "12eba942",
   "metadata": {},
   "outputs": [],
   "source": [
    "count_df.to_csv(\"../data/primary/top_user_activity/subreddit_mansp_authors.csv\", index=False)"
   ]
  },
  {
   "cell_type": "code",
   "execution_count": null,
   "id": "c9ae9440",
   "metadata": {},
   "outputs": [],
   "source": []
  }
 ],
 "metadata": {
  "kernelspec": {
   "display_name": "Python 3 (ipykernel)",
   "language": "python",
   "name": "python3"
  },
  "language_info": {
   "codemirror_mode": {
    "name": "ipython",
    "version": 3
   },
   "file_extension": ".py",
   "mimetype": "text/x-python",
   "name": "python",
   "nbconvert_exporter": "python",
   "pygments_lexer": "ipython3",
   "version": "3.8.10"
  }
 },
 "nbformat": 4,
 "nbformat_minor": 5
}
