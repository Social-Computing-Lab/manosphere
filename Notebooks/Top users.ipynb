{
 "cells": [
  {
   "cell_type": "code",
   "execution_count": 1,
   "id": "72ba5da7",
   "metadata": {},
   "outputs": [],
   "source": [
    "import pandas as pd\n",
    "import matplotlib.pyplot as plt\n",
    "import glob\n",
    "import os\n",
    "%matplotlib inline"
   ]
  },
  {
   "cell_type": "code",
   "execution_count": 2,
   "id": "cc598ca2",
   "metadata": {},
   "outputs": [],
   "source": [
    "comments_dir = \"../data/primary/cleaned/comments/\"\n",
    "posts_dir = \"../data/primary/cleaned/posts/\"\n",
    "timeframes = ['2017-07', '2017-08', '2017-09', '2017-10', '2017-11', '2017-12', '2018-01', '2018-02', '2018-03', '2018-04', '2018-05', '2018-06', '2018-07', '2018-08', '2018-09', '2018-10', '2018-11', '2018-12', '2019-01', '2019-02', '2019-03', '2019-04', '2019-05', '2019-06']"
   ]
  },
  {
   "cell_type": "code",
   "execution_count": 3,
   "id": "ae4e6220",
   "metadata": {},
   "outputs": [],
   "source": [
    "merged_comments = pd.DataFrame(columns=[\"author\", \"count\"])\n",
    "merged_posts = pd.DataFrame(columns=[\"author\", \"count\"])"
   ]
  },
  {
   "cell_type": "code",
   "execution_count": 4,
   "id": "f05e4a72",
   "metadata": {},
   "outputs": [
    {
     "name": "stdout",
     "output_type": "stream",
     "text": [
      "../data/primary/cleaned/comments/RC_2017-07.csv\n"
     ]
    },
    {
     "name": "stderr",
     "output_type": "stream",
     "text": [
      "/tmp/ipykernel_342713/722631097.py:10: DtypeWarning: Columns (1,3,4,6,7,9) have mixed types. Specify dtype option on import or set low_memory=False.\n",
      "  new_df = pd.read_csv(csv_file)\n"
     ]
    },
    {
     "name": "stdout",
     "output_type": "stream",
     "text": [
      "../data/primary/cleaned/comments/RC_2017-08.csv\n"
     ]
    },
    {
     "name": "stderr",
     "output_type": "stream",
     "text": [
      "/tmp/ipykernel_342713/722631097.py:10: DtypeWarning: Columns (4,6,7,9) have mixed types. Specify dtype option on import or set low_memory=False.\n",
      "  new_df = pd.read_csv(csv_file)\n"
     ]
    },
    {
     "name": "stdout",
     "output_type": "stream",
     "text": [
      "../data/primary/cleaned/comments/RC_2017-09.csv\n"
     ]
    },
    {
     "name": "stderr",
     "output_type": "stream",
     "text": [
      "/tmp/ipykernel_342713/722631097.py:10: DtypeWarning: Columns (1,4,6,7,9) have mixed types. Specify dtype option on import or set low_memory=False.\n",
      "  new_df = pd.read_csv(csv_file)\n"
     ]
    },
    {
     "name": "stdout",
     "output_type": "stream",
     "text": [
      "../data/primary/cleaned/comments/RC_2017-10.csv\n"
     ]
    },
    {
     "name": "stderr",
     "output_type": "stream",
     "text": [
      "/tmp/ipykernel_342713/722631097.py:10: DtypeWarning: Columns (4,6,7,9) have mixed types. Specify dtype option on import or set low_memory=False.\n",
      "  new_df = pd.read_csv(csv_file)\n"
     ]
    },
    {
     "name": "stdout",
     "output_type": "stream",
     "text": [
      "../data/primary/cleaned/comments/RC_2017-11.csv\n",
      "../data/primary/cleaned/comments/RC_2017-12.csv\n"
     ]
    },
    {
     "name": "stderr",
     "output_type": "stream",
     "text": [
      "/tmp/ipykernel_342713/722631097.py:10: DtypeWarning: Columns (1,4,6,7,9) have mixed types. Specify dtype option on import or set low_memory=False.\n",
      "  new_df = pd.read_csv(csv_file)\n"
     ]
    },
    {
     "name": "stdout",
     "output_type": "stream",
     "text": [
      "../data/primary/cleaned/comments/RC_2018-01.csv\n"
     ]
    },
    {
     "name": "stderr",
     "output_type": "stream",
     "text": [
      "/tmp/ipykernel_342713/722631097.py:10: DtypeWarning: Columns (1,4,6,7,9) have mixed types. Specify dtype option on import or set low_memory=False.\n",
      "  new_df = pd.read_csv(csv_file)\n"
     ]
    },
    {
     "name": "stdout",
     "output_type": "stream",
     "text": [
      "../data/primary/cleaned/comments/RC_2018-02.csv\n"
     ]
    },
    {
     "name": "stderr",
     "output_type": "stream",
     "text": [
      "/tmp/ipykernel_342713/722631097.py:10: DtypeWarning: Columns (3,4,6,7,9) have mixed types. Specify dtype option on import or set low_memory=False.\n",
      "  new_df = pd.read_csv(csv_file)\n"
     ]
    },
    {
     "name": "stdout",
     "output_type": "stream",
     "text": [
      "../data/primary/cleaned/comments/RC_2018-03.csv\n",
      "../data/primary/cleaned/comments/RC_2018-04.csv\n"
     ]
    },
    {
     "name": "stderr",
     "output_type": "stream",
     "text": [
      "/tmp/ipykernel_342713/722631097.py:10: DtypeWarning: Columns (1,4,6,7,9) have mixed types. Specify dtype option on import or set low_memory=False.\n",
      "  new_df = pd.read_csv(csv_file)\n"
     ]
    },
    {
     "name": "stdout",
     "output_type": "stream",
     "text": [
      "../data/primary/cleaned/comments/RC_2018-05.csv\n"
     ]
    },
    {
     "name": "stderr",
     "output_type": "stream",
     "text": [
      "/tmp/ipykernel_342713/722631097.py:10: DtypeWarning: Columns (1,4,6,7,9) have mixed types. Specify dtype option on import or set low_memory=False.\n",
      "  new_df = pd.read_csv(csv_file)\n"
     ]
    },
    {
     "name": "stdout",
     "output_type": "stream",
     "text": [
      "../data/primary/cleaned/comments/RC_2018-06.csv\n",
      "../data/primary/cleaned/comments/RC_2018-07.csv\n"
     ]
    },
    {
     "name": "stderr",
     "output_type": "stream",
     "text": [
      "/tmp/ipykernel_342713/722631097.py:10: DtypeWarning: Columns (1,6,7,9) have mixed types. Specify dtype option on import or set low_memory=False.\n",
      "  new_df = pd.read_csv(csv_file)\n"
     ]
    },
    {
     "name": "stdout",
     "output_type": "stream",
     "text": [
      "../data/primary/cleaned/comments/RC_2018-08.csv\n"
     ]
    },
    {
     "name": "stderr",
     "output_type": "stream",
     "text": [
      "/tmp/ipykernel_342713/722631097.py:10: DtypeWarning: Columns (1,6,7,9) have mixed types. Specify dtype option on import or set low_memory=False.\n",
      "  new_df = pd.read_csv(csv_file)\n"
     ]
    },
    {
     "name": "stdout",
     "output_type": "stream",
     "text": [
      "../data/primary/cleaned/comments/RC_2018-09.csv\n"
     ]
    },
    {
     "name": "stderr",
     "output_type": "stream",
     "text": [
      "/tmp/ipykernel_342713/722631097.py:10: DtypeWarning: Columns (1,6,7,9) have mixed types. Specify dtype option on import or set low_memory=False.\n",
      "  new_df = pd.read_csv(csv_file)\n"
     ]
    },
    {
     "name": "stdout",
     "output_type": "stream",
     "text": [
      "../data/primary/cleaned/comments/RC_2018-10.csv\n",
      "../data/primary/cleaned/comments/RC_2018-11.csv\n",
      "../data/primary/cleaned/comments/RC_2018-12.csv\n"
     ]
    },
    {
     "name": "stderr",
     "output_type": "stream",
     "text": [
      "/tmp/ipykernel_342713/722631097.py:10: DtypeWarning: Columns (1,6,7,9) have mixed types. Specify dtype option on import or set low_memory=False.\n",
      "  new_df = pd.read_csv(csv_file)\n"
     ]
    },
    {
     "name": "stdout",
     "output_type": "stream",
     "text": [
      "../data/primary/cleaned/comments/RC_2019-01.csv\n",
      "../data/primary/cleaned/comments/RC_2019-02.csv\n"
     ]
    },
    {
     "name": "stderr",
     "output_type": "stream",
     "text": [
      "/tmp/ipykernel_342713/722631097.py:10: DtypeWarning: Columns (1,6,7,9) have mixed types. Specify dtype option on import or set low_memory=False.\n",
      "  new_df = pd.read_csv(csv_file)\n"
     ]
    },
    {
     "name": "stdout",
     "output_type": "stream",
     "text": [
      "../data/primary/cleaned/comments/RC_2019-03.csv\n"
     ]
    },
    {
     "name": "stderr",
     "output_type": "stream",
     "text": [
      "/tmp/ipykernel_342713/722631097.py:10: DtypeWarning: Columns (1,6,7,9) have mixed types. Specify dtype option on import or set low_memory=False.\n",
      "  new_df = pd.read_csv(csv_file)\n"
     ]
    },
    {
     "name": "stdout",
     "output_type": "stream",
     "text": [
      "../data/primary/cleaned/comments/RC_2019-04.csv\n"
     ]
    },
    {
     "name": "stderr",
     "output_type": "stream",
     "text": [
      "/tmp/ipykernel_342713/722631097.py:10: DtypeWarning: Columns (1,6,7,9) have mixed types. Specify dtype option on import or set low_memory=False.\n",
      "  new_df = pd.read_csv(csv_file)\n"
     ]
    },
    {
     "name": "stdout",
     "output_type": "stream",
     "text": [
      "../data/primary/cleaned/comments/RC_2019-05.csv\n"
     ]
    },
    {
     "name": "stderr",
     "output_type": "stream",
     "text": [
      "/tmp/ipykernel_342713/722631097.py:10: DtypeWarning: Columns (1,6,7,9) have mixed types. Specify dtype option on import or set low_memory=False.\n",
      "  new_df = pd.read_csv(csv_file)\n"
     ]
    },
    {
     "name": "stdout",
     "output_type": "stream",
     "text": [
      "../data/primary/cleaned/comments/RC_2019-06.csv\n",
      "761088\n",
      "761088\n"
     ]
    },
    {
     "name": "stderr",
     "output_type": "stream",
     "text": [
      "/tmp/ipykernel_342713/722631097.py:10: DtypeWarning: Columns (1,6,7,9) have mixed types. Specify dtype option on import or set low_memory=False.\n",
      "  new_df = pd.read_csv(csv_file)\n"
     ]
    }
   ],
   "source": [
    "# read all comments data one by one. count and merge to merged df\n",
    "new_df = None\n",
    "comments_count = 0\n",
    "total_comments = 0\n",
    "for time_frame in timeframes:\n",
    "    csv_file = os.path.join(comments_dir, f\"RC_{time_frame}.csv\")\n",
    "    if csv_file == \"data/new/merged_comments_count.csv\":\n",
    "        continue\n",
    "    print(csv_file)\n",
    "    new_df = pd.read_csv(csv_file)\n",
    "    total_comments += len(new_df)\n",
    "    new_df = new_df[[\"author\", \"id\"]]\n",
    "    new_df = new_df.groupby([\"author\"]).count().reset_index()\n",
    "    new_df.rename(columns={\"id\": \"count\"}, inplace=True)\n",
    "    comments_count += len(new_df)\n",
    "    merged_comments = pd.concat([merged_comments, new_df])\n",
    "    del new_df\n",
    "print(comments_count)\n",
    "print(len(merged_comments))"
   ]
  },
  {
   "cell_type": "code",
   "execution_count": 5,
   "id": "08908922",
   "metadata": {},
   "outputs": [
    {
     "name": "stdout",
     "output_type": "stream",
     "text": [
      "../data/primary/cleaned/posts/RS_2017-07.csv\n",
      "../data/primary/cleaned/posts/RS_2017-08.csv\n",
      "../data/primary/cleaned/posts/RS_2017-09.csv\n",
      "../data/primary/cleaned/posts/RS_2017-10.csv\n",
      "../data/primary/cleaned/posts/RS_2017-11.csv\n",
      "../data/primary/cleaned/posts/RS_2017-12.csv\n",
      "../data/primary/cleaned/posts/RS_2018-01.csv\n",
      "../data/primary/cleaned/posts/RS_2018-02.csv\n",
      "../data/primary/cleaned/posts/RS_2018-03.csv\n",
      "../data/primary/cleaned/posts/RS_2018-04.csv\n",
      "../data/primary/cleaned/posts/RS_2018-05.csv\n",
      "../data/primary/cleaned/posts/RS_2018-06.csv\n",
      "../data/primary/cleaned/posts/RS_2018-07.csv\n",
      "../data/primary/cleaned/posts/RS_2018-08.csv\n",
      "../data/primary/cleaned/posts/RS_2018-09.csv\n",
      "../data/primary/cleaned/posts/RS_2018-10.csv\n",
      "../data/primary/cleaned/posts/RS_2018-11.csv\n",
      "../data/primary/cleaned/posts/RS_2018-12.csv\n",
      "../data/primary/cleaned/posts/RS_2019-01.csv\n",
      "../data/primary/cleaned/posts/RS_2019-02.csv\n",
      "../data/primary/cleaned/posts/RS_2019-03.csv\n",
      "../data/primary/cleaned/posts/RS_2019-04.csv\n",
      "../data/primary/cleaned/posts/RS_2019-05.csv\n",
      "../data/primary/cleaned/posts/RS_2019-06.csv\n",
      "201910\n",
      "201910\n"
     ]
    }
   ],
   "source": [
    "# read all posts data one by one. count and merge to merged df\n",
    "new_df = None\n",
    "posts_count = 0\n",
    "total_posts = 0\n",
    "for time_frame in timeframes:\n",
    "    csv_file = os.path.join(posts_dir, f\"RS_{time_frame}.csv\")\n",
    "    if csv_file == \"data/posts/new/merged_posts_count.csv\":\n",
    "        continue\n",
    "    print(csv_file)\n",
    "    new_df = pd.read_csv(csv_file)\n",
    "    total_posts += len(new_df)\n",
    "    new_df = new_df[[\"author\", \"id\"]]\n",
    "    new_df = new_df.groupby([\"author\"]).count().reset_index()\n",
    "    new_df.rename(columns={\"id\": \"count\"}, inplace=True)\n",
    "    posts_count += len(new_df)\n",
    "    merged_posts = pd.concat([merged_posts, new_df])\n",
    "    del new_df\n",
    "print(posts_count)\n",
    "print(len(merged_posts))"
   ]
  },
  {
   "cell_type": "code",
   "execution_count": 6,
   "id": "54b93cde",
   "metadata": {},
   "outputs": [
    {
     "name": "stdout",
     "output_type": "stream",
     "text": [
      "Total comments: 8642921\n",
      "Total posts: 475504\n"
     ]
    }
   ],
   "source": [
    "# print overall comments and posts count\n",
    "print(f\"Total comments: {total_comments}\")\n",
    "print(f\"Total posts: {total_posts}\")"
   ]
  },
  {
   "cell_type": "code",
   "execution_count": 7,
   "id": "395e7f45",
   "metadata": {},
   "outputs": [],
   "source": [
    "# group merged comments to merge counts from all files\n",
    "merged_comments = merged_comments.groupby([\"author\"]).sum().reset_index()"
   ]
  },
  {
   "cell_type": "code",
   "execution_count": 8,
   "id": "adbb34d8",
   "metadata": {},
   "outputs": [],
   "source": [
    "# group merged posts to merge counts from all files\n",
    "merged_posts = merged_posts.groupby([\"author\"]).sum().reset_index()"
   ]
  },
  {
   "cell_type": "code",
   "execution_count": 9,
   "id": "2fd83a88",
   "metadata": {},
   "outputs": [
    {
     "name": "stdout",
     "output_type": "stream",
     "text": [
      "300820\n",
      "111687\n"
     ]
    }
   ],
   "source": [
    "print(len(merged_comments))\n",
    "print(len(merged_posts))"
   ]
  },
  {
   "cell_type": "code",
   "execution_count": 10,
   "id": "d0244605",
   "metadata": {},
   "outputs": [],
   "source": [
    "#save merged counts and posts to individual files\n",
    "merged_posts.to_csv(\"../data/primary/merged/merged_posts_count.csv\")\n",
    "merged_comments.to_csv(\"../data/primary/merged/merged_comments_count.csv\")"
   ]
  },
  {
   "cell_type": "code",
   "execution_count": 11,
   "id": "58c8a5d6",
   "metadata": {},
   "outputs": [],
   "source": [
    "merged_comments_posts = pd.concat([merged_comments, merged_posts])"
   ]
  },
  {
   "cell_type": "code",
   "execution_count": 12,
   "id": "1c076cda",
   "metadata": {},
   "outputs": [
    {
     "data": {
      "text/plain": [
       "412507"
      ]
     },
     "execution_count": 12,
     "metadata": {},
     "output_type": "execute_result"
    }
   ],
   "source": [
    "len(merged_comments_posts)"
   ]
  },
  {
   "cell_type": "code",
   "execution_count": 13,
   "id": "c977c918",
   "metadata": {},
   "outputs": [],
   "source": [
    "merged_comments_posts = merged_comments_posts.groupby([\"author\"]).sum().reset_index()"
   ]
  },
  {
   "cell_type": "code",
   "execution_count": 14,
   "id": "5b250d9e",
   "metadata": {},
   "outputs": [
    {
     "data": {
      "text/html": [
       "<div>\n",
       "<style scoped>\n",
       "    .dataframe tbody tr th:only-of-type {\n",
       "        vertical-align: middle;\n",
       "    }\n",
       "\n",
       "    .dataframe tbody tr th {\n",
       "        vertical-align: top;\n",
       "    }\n",
       "\n",
       "    .dataframe thead th {\n",
       "        text-align: right;\n",
       "    }\n",
       "</style>\n",
       "<table border=\"1\" class=\"dataframe\">\n",
       "  <thead>\n",
       "    <tr style=\"text-align: right;\">\n",
       "      <th></th>\n",
       "      <th>author</th>\n",
       "      <th>count</th>\n",
       "    </tr>\n",
       "  </thead>\n",
       "  <tbody>\n",
       "    <tr>\n",
       "      <th>38698</th>\n",
       "      <td>DangZagnut</td>\n",
       "      <td>24599</td>\n",
       "    </tr>\n",
       "    <tr>\n",
       "      <th>5100</th>\n",
       "      <td>801735</td>\n",
       "      <td>19428</td>\n",
       "    </tr>\n",
       "  </tbody>\n",
       "</table>\n",
       "</div>"
      ],
      "text/plain": [
       "           author  count\n",
       "38698  DangZagnut  24599\n",
       "5100       801735  19428"
      ]
     },
     "execution_count": 14,
     "metadata": {},
     "output_type": "execute_result"
    }
   ],
   "source": [
    "merged_comments_posts.sort_values([\"count\"], ascending=False)[:2]"
   ]
  },
  {
   "cell_type": "code",
   "execution_count": 16,
   "id": "d3453d70",
   "metadata": {},
   "outputs": [],
   "source": [
    "merged_comments_posts.to_csv(\"../data/primary/merged/merged_comments_posts_count.csv\")"
   ]
  },
  {
   "cell_type": "code",
   "execution_count": 17,
   "id": "2d39424f",
   "metadata": {},
   "outputs": [
    {
     "data": {
      "text/plain": [
       "332682"
      ]
     },
     "execution_count": 17,
     "metadata": {},
     "output_type": "execute_result"
    }
   ],
   "source": [
    "len(merged_comments_posts)"
   ]
  },
  {
   "cell_type": "code",
   "execution_count": 23,
   "id": "6d0fe03a",
   "metadata": {},
   "outputs": [
    {
     "data": {
      "text/html": [
       "<div>\n",
       "<style scoped>\n",
       "    .dataframe tbody tr th:only-of-type {\n",
       "        vertical-align: middle;\n",
       "    }\n",
       "\n",
       "    .dataframe tbody tr th {\n",
       "        vertical-align: top;\n",
       "    }\n",
       "\n",
       "    .dataframe thead th {\n",
       "        text-align: right;\n",
       "    }\n",
       "</style>\n",
       "<table border=\"1\" class=\"dataframe\">\n",
       "  <thead>\n",
       "    <tr style=\"text-align: right;\">\n",
       "      <th></th>\n",
       "      <th>author</th>\n",
       "    </tr>\n",
       "  </thead>\n",
       "  <tbody>\n",
       "    <tr>\n",
       "      <th>38699</th>\n",
       "      <td>DangZagnut</td>\n",
       "    </tr>\n",
       "    <tr>\n",
       "      <th>5100</th>\n",
       "      <td>801735</td>\n",
       "    </tr>\n",
       "    <tr>\n",
       "      <th>96320</th>\n",
       "      <td>MagratM</td>\n",
       "    </tr>\n",
       "    <tr>\n",
       "      <th>7291</th>\n",
       "      <td>AbuIncelAlAustrali</td>\n",
       "    </tr>\n",
       "    <tr>\n",
       "      <th>37893</th>\n",
       "      <td>DWShimoda</td>\n",
       "    </tr>\n",
       "    <tr>\n",
       "      <th>...</th>\n",
       "      <td>...</td>\n",
       "    </tr>\n",
       "    <tr>\n",
       "      <th>53092</th>\n",
       "      <td>Fantoche_Dreemurr</td>\n",
       "    </tr>\n",
       "    <tr>\n",
       "      <th>68996</th>\n",
       "      <td>Hopecel</td>\n",
       "    </tr>\n",
       "    <tr>\n",
       "      <th>223543</th>\n",
       "      <td>frankwashere44</td>\n",
       "    </tr>\n",
       "    <tr>\n",
       "      <th>287311</th>\n",
       "      <td>redhawkes</td>\n",
       "    </tr>\n",
       "    <tr>\n",
       "      <th>9951</th>\n",
       "      <td>Alia_Harkonnen</td>\n",
       "    </tr>\n",
       "  </tbody>\n",
       "</table>\n",
       "<p>100 rows × 1 columns</p>\n",
       "</div>"
      ],
      "text/plain": [
       "                    author\n",
       "38699           DangZagnut\n",
       "5100                801735\n",
       "96320              MagratM\n",
       "7291    AbuIncelAlAustrali\n",
       "37893            DWShimoda\n",
       "...                    ...\n",
       "53092    Fantoche_Dreemurr\n",
       "68996              Hopecel\n",
       "223543      frankwashere44\n",
       "287311           redhawkes\n",
       "9951        Alia_Harkonnen\n",
       "\n",
       "[100 rows x 1 columns]"
      ]
     },
     "execution_count": 23,
     "metadata": {},
     "output_type": "execute_result"
    }
   ],
   "source": [
    "top_100_authors = merged_comments_posts.sort_values([\"count\"], ascending=False)[:100][[\"author\"]]\n",
    "top_100_authors"
   ]
  },
  {
   "cell_type": "code",
   "execution_count": 24,
   "id": "4a1692b0",
   "metadata": {},
   "outputs": [],
   "source": [
    "top_100_authors.to_csv(\"../data/primary/top_100_authors.csv\", index=False)"
   ]
  },
  {
   "cell_type": "code",
   "execution_count": 34,
   "id": "295be73b",
   "metadata": {},
   "outputs": [],
   "source": [
    "bot_usernames = merged_comments_posts[merged_comments_posts[\"author\"].str.lower().str.endswith(\"bot\")]"
   ]
  },
  {
   "cell_type": "code",
   "execution_count": 44,
   "id": "c985cf77",
   "metadata": {},
   "outputs": [],
   "source": [
    "bot_usernames[bot_usernames[\"count\"] > 12].sort_values([\"count\"], ascending=False).to_csv(\"../data/primary/bot_username_suspects.csv\")"
   ]
  },
  {
   "cell_type": "code",
   "execution_count": 40,
   "id": "8929337e",
   "metadata": {},
   "outputs": [
    {
     "data": {
      "text/plain": [
       "12.0"
      ]
     },
     "execution_count": 40,
     "metadata": {},
     "output_type": "execute_result"
    }
   ],
   "source": [
    "merged_comments_posts[\"count\"].quantile(0.8)"
   ]
  },
  {
   "cell_type": "code",
   "execution_count": 22,
   "id": "58c59503",
   "metadata": {},
   "outputs": [],
   "source": [
    "merged_comments_posts[merged_comments_posts[\"count\"] > 12].sort_values([\"count\"], ascending=False).to_csv(\"../data/primary/top_20_perc_users.csv\", index=False)"
   ]
  },
  {
   "cell_type": "code",
   "execution_count": null,
   "id": "32b1b543",
   "metadata": {},
   "outputs": [],
   "source": []
  }
 ],
 "metadata": {
  "kernelspec": {
   "display_name": "Python 3 (ipykernel)",
   "language": "python",
   "name": "python3"
  },
  "language_info": {
   "codemirror_mode": {
    "name": "ipython",
    "version": 3
   },
   "file_extension": ".py",
   "mimetype": "text/x-python",
   "name": "python",
   "nbconvert_exporter": "python",
   "pygments_lexer": "ipython3",
   "version": "3.8.10"
  }
 },
 "nbformat": 4,
 "nbformat_minor": 5
}
