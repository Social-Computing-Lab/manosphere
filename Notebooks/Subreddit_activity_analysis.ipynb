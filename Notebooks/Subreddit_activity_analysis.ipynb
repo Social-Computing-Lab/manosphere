{
 "cells": [
  {
   "cell_type": "code",
   "execution_count": 23,
   "id": "4bfe793a",
   "metadata": {},
   "outputs": [],
   "source": [
    "import pandas as pd\n",
    "import glob\n",
    "import os"
   ]
  },
  {
   "cell_type": "code",
   "execution_count": 24,
   "id": "57a46e9c",
   "metadata": {},
   "outputs": [],
   "source": [
    "data_dir = \"../data/primary/top_user_activity/\""
   ]
  },
  {
   "cell_type": "code",
   "execution_count": 25,
   "id": "a62d47a7",
   "metadata": {},
   "outputs": [],
   "source": [
    "count_df = pd.DataFrame(columns=[\"subreddit\", \"count\"])"
   ]
  },
  {
   "cell_type": "code",
   "execution_count": 27,
   "id": "c2800552",
   "metadata": {},
   "outputs": [
    {
     "name": "stdout",
     "output_type": "stream",
     "text": [
      "../data/primary/top_user_activity/posts/RS_2017-10.csv\n",
      "../data/primary/top_user_activity/posts/RS_2018-10.csv\n",
      "../data/primary/top_user_activity/posts/RS_2019-04.csv\n",
      "../data/primary/top_user_activity/posts/RS_2017-11.csv\n",
      "../data/primary/top_user_activity/posts/RS_2018-12.csv\n",
      "../data/primary/top_user_activity/posts/RS_2018-05.csv\n",
      "../data/primary/top_user_activity/posts/RS_2017-12.csv\n",
      "../data/primary/top_user_activity/posts/RS_2019-05.csv\n",
      "../data/primary/top_user_activity/posts/RS_2017-08.csv\n",
      "../data/primary/top_user_activity/posts/RS_2018-09.csv\n",
      "../data/primary/top_user_activity/posts/RS_2018-03.csv\n",
      "../data/primary/top_user_activity/posts/RS_2017-09.csv\n",
      "../data/primary/top_user_activity/posts/RS_2019-06.csv\n",
      "../data/primary/top_user_activity/posts/RS_2018-11.csv\n",
      "../data/primary/top_user_activity/posts/RS_2018-01.csv\n",
      "../data/primary/top_user_activity/posts/RS_2019-02.csv\n",
      "../data/primary/top_user_activity/posts/RS_2019-03.csv\n",
      "../data/primary/top_user_activity/posts/RS_2019-01.csv\n",
      "../data/primary/top_user_activity/posts/RS_2017-07.csv\n",
      "../data/primary/top_user_activity/posts/RS_2018-02.csv\n",
      "../data/primary/top_user_activity/posts/RS_2018-07.csv\n",
      "../data/primary/top_user_activity/posts/RS_2018-06.csv\n",
      "../data/primary/top_user_activity/posts/RS_2018-08.csv\n",
      "../data/primary/top_user_activity/posts/RS_2018-04.csv\n"
     ]
    }
   ],
   "source": [
    "#posts\n",
    "csv_files = glob.glob(os.path.join(data_dir, \"posts\", \"*.csv\"))\n",
    "for csv_file in csv_files:\n",
    "    print(csv_file)\n",
    "    data_df = pd.read_csv(csv_file, usecols=[\"author\", \"subreddit\"])\n",
    "    data_df = data_df.groupby(\"subreddit\").count().reset_index()\n",
    "    data_df.rename(columns={\"author\": \"count\"}, inplace=True)\n",
    "    count_df = pd.concat([count_df, data_df])\n",
    "    del data_df"
   ]
  },
  {
   "cell_type": "code",
   "execution_count": 28,
   "id": "c59d50f3",
   "metadata": {},
   "outputs": [
    {
     "name": "stdout",
     "output_type": "stream",
     "text": [
      "../data/primary/top_user_activity/comments/RC_2018-05.csv\n",
      "../data/primary/top_user_activity/comments/RC_2018-03.csv\n",
      "../data/primary/top_user_activity/comments/RC_2018-08.csv\n",
      "../data/primary/top_user_activity/comments/RC_2018-10.csv\n",
      "../data/primary/top_user_activity/comments/RC_2018-07.csv\n",
      "../data/primary/top_user_activity/comments/RC_2019-01.csv\n",
      "../data/primary/top_user_activity/comments/RC_2018-04.csv\n",
      "../data/primary/top_user_activity/comments/RC_2018-09.csv\n",
      "../data/primary/top_user_activity/comments/RC_2019-04.csv\n",
      "../data/primary/top_user_activity/comments/RC_2017-07.csv\n",
      "../data/primary/top_user_activity/comments/RC_2019-02.csv\n",
      "../data/primary/top_user_activity/comments/RC_2018-02.csv\n",
      "../data/primary/top_user_activity/comments/RC_2017-08.csv\n",
      "../data/primary/top_user_activity/comments/RC_2017-09.csv\n",
      "../data/primary/top_user_activity/comments/RC_2019-06.csv\n",
      "../data/primary/top_user_activity/comments/RC_2019-03.csv\n",
      "../data/primary/top_user_activity/comments/RC_2017-10.csv\n",
      "../data/primary/top_user_activity/comments/RC_2018-06.csv\n",
      "../data/primary/top_user_activity/comments/RC_2018-12.csv\n",
      "../data/primary/top_user_activity/comments/RC_2018-11.csv\n",
      "../data/primary/top_user_activity/comments/RC_2017-11.csv\n",
      "../data/primary/top_user_activity/comments/RC_2018-01.csv\n",
      "../data/primary/top_user_activity/comments/RC_2017-12.csv\n",
      "../data/primary/top_user_activity/comments/RC_2019-05.csv\n"
     ]
    }
   ],
   "source": [
    "#comments\n",
    "csv_files = glob.glob(os.path.join(data_dir, \"comments\", \"*.csv\"))\n",
    "for csv_file in csv_files:\n",
    "    print(csv_file)\n",
    "    data_df = pd.read_csv(csv_file, usecols=[\"author\", \"subreddit\"])\n",
    "    data_df = data_df.groupby(\"subreddit\").count().reset_index()\n",
    "    data_df.rename(columns={\"author\": \"count\"}, inplace=True)\n",
    "    count_df = pd.concat([count_df, data_df])\n",
    "    del data_df"
   ]
  },
  {
   "cell_type": "code",
   "execution_count": 29,
   "id": "504c1121",
   "metadata": {},
   "outputs": [],
   "source": [
    "count_df = count_df.groupby(\"subreddit\").sum().reset_index()"
   ]
  },
  {
   "cell_type": "code",
   "execution_count": 30,
   "id": "b05eaca1",
   "metadata": {},
   "outputs": [
    {
     "data": {
      "text/html": [
       "<div>\n",
       "<style scoped>\n",
       "    .dataframe tbody tr th:only-of-type {\n",
       "        vertical-align: middle;\n",
       "    }\n",
       "\n",
       "    .dataframe tbody tr th {\n",
       "        vertical-align: top;\n",
       "    }\n",
       "\n",
       "    .dataframe thead th {\n",
       "        text-align: right;\n",
       "    }\n",
       "</style>\n",
       "<table border=\"1\" class=\"dataframe\">\n",
       "  <thead>\n",
       "    <tr style=\"text-align: right;\">\n",
       "      <th></th>\n",
       "      <th>subreddit</th>\n",
       "      <th>count</th>\n",
       "    </tr>\n",
       "  </thead>\n",
       "  <tbody>\n",
       "    <tr>\n",
       "      <th>4050</th>\n",
       "      <td>AskReddit</td>\n",
       "      <td>3866495</td>\n",
       "    </tr>\n",
       "    <tr>\n",
       "      <th>28654</th>\n",
       "      <td>MGTOW</td>\n",
       "      <td>2607226</td>\n",
       "    </tr>\n",
       "    <tr>\n",
       "      <th>7278</th>\n",
       "      <td>Braincels</td>\n",
       "      <td>2265413</td>\n",
       "    </tr>\n",
       "    <tr>\n",
       "      <th>47759</th>\n",
       "      <td>The_Donald</td>\n",
       "      <td>1467709</td>\n",
       "    </tr>\n",
       "    <tr>\n",
       "      <th>79432</th>\n",
       "      <td>politics</td>\n",
       "      <td>994528</td>\n",
       "    </tr>\n",
       "    <tr>\n",
       "      <th>...</th>\n",
       "      <td>...</td>\n",
       "      <td>...</td>\n",
       "    </tr>\n",
       "    <tr>\n",
       "      <th>11145</th>\n",
       "      <td>CosplayOutfits</td>\n",
       "      <td>1</td>\n",
       "    </tr>\n",
       "    <tr>\n",
       "      <th>74908</th>\n",
       "      <td>millionairegrind</td>\n",
       "      <td>1</td>\n",
       "    </tr>\n",
       "    <tr>\n",
       "      <th>11146</th>\n",
       "      <td>CosplayPanties</td>\n",
       "      <td>1</td>\n",
       "    </tr>\n",
       "    <tr>\n",
       "      <th>11147</th>\n",
       "      <td>CosplayPornVideos</td>\n",
       "      <td>1</td>\n",
       "    </tr>\n",
       "    <tr>\n",
       "      <th>102469</th>\n",
       "      <td>zzzzzzzzzzzzzzzzzzzz</td>\n",
       "      <td>1</td>\n",
       "    </tr>\n",
       "  </tbody>\n",
       "</table>\n",
       "<p>102470 rows × 2 columns</p>\n",
       "</div>"
      ],
      "text/plain": [
       "                   subreddit    count\n",
       "4050               AskReddit  3866495\n",
       "28654                  MGTOW  2607226\n",
       "7278               Braincels  2265413\n",
       "47759             The_Donald  1467709\n",
       "79432               politics   994528\n",
       "...                      ...      ...\n",
       "11145         CosplayOutfits        1\n",
       "74908       millionairegrind        1\n",
       "11146         CosplayPanties        1\n",
       "11147      CosplayPornVideos        1\n",
       "102469  zzzzzzzzzzzzzzzzzzzz        1\n",
       "\n",
       "[102470 rows x 2 columns]"
      ]
     },
     "execution_count": 30,
     "metadata": {},
     "output_type": "execute_result"
    }
   ],
   "source": [
    "count_df.sort_values([\"count\"], ascending=False, inplace=True)\n",
    "count_df"
   ]
  },
  {
   "cell_type": "code",
   "execution_count": 31,
   "id": "89478f9c",
   "metadata": {},
   "outputs": [],
   "source": [
    "total_posts = sum(count_df[\"count\"])"
   ]
  },
  {
   "cell_type": "code",
   "execution_count": 32,
   "id": "55c31890",
   "metadata": {},
   "outputs": [],
   "source": [
    "count_df[\"perc\"] = 0\n",
    "count_df[\"cum_perc\"] = 0"
   ]
  },
  {
   "cell_type": "code",
   "execution_count": 33,
   "id": "9672637e",
   "metadata": {},
   "outputs": [],
   "source": [
    "cumulative_post_count = 0\n",
    "for idx, row in count_df.iterrows():\n",
    "    row_contr = row[\"count\"]/total_posts\n",
    "    cumulative_post_count += row[\"count\"]\n",
    "    count_df.loc[idx, \"perc\"] = row_contr\n",
    "    count_df.loc[idx, \"cum_perc\"] = cumulative_post_count/total_posts"
   ]
  },
  {
   "cell_type": "code",
   "execution_count": 35,
   "id": "3bf182c9",
   "metadata": {},
   "outputs": [],
   "source": [
    "count_df.to_csv(os.path.join(data_dir, \"subreddit_wise_activity.csv\"), index=False)"
   ]
  },
  {
   "cell_type": "code",
   "execution_count": 45,
   "id": "ddf1844b",
   "metadata": {},
   "outputs": [
    {
     "data": {
      "text/plain": [
       "8723.959999999963"
      ]
     },
     "execution_count": 45,
     "metadata": {},
     "output_type": "execute_result"
    }
   ],
   "source": [
    "count_df[\"count\"].quantile(0.99)"
   ]
  },
  {
   "cell_type": "code",
   "execution_count": 46,
   "id": "58011235",
   "metadata": {},
   "outputs": [
    {
     "data": {
      "text/html": [
       "<div>\n",
       "<style scoped>\n",
       "    .dataframe tbody tr th:only-of-type {\n",
       "        vertical-align: middle;\n",
       "    }\n",
       "\n",
       "    .dataframe tbody tr th {\n",
       "        vertical-align: top;\n",
       "    }\n",
       "\n",
       "    .dataframe thead th {\n",
       "        text-align: right;\n",
       "    }\n",
       "</style>\n",
       "<table border=\"1\" class=\"dataframe\">\n",
       "  <thead>\n",
       "    <tr style=\"text-align: right;\">\n",
       "      <th></th>\n",
       "      <th>subreddit</th>\n",
       "      <th>count</th>\n",
       "      <th>perc</th>\n",
       "      <th>cum_perc</th>\n",
       "    </tr>\n",
       "  </thead>\n",
       "  <tbody>\n",
       "    <tr>\n",
       "      <th>4050</th>\n",
       "      <td>AskReddit</td>\n",
       "      <td>3866495</td>\n",
       "      <td>0.054987</td>\n",
       "      <td>0.054987</td>\n",
       "    </tr>\n",
       "    <tr>\n",
       "      <th>28654</th>\n",
       "      <td>MGTOW</td>\n",
       "      <td>2607226</td>\n",
       "      <td>0.037078</td>\n",
       "      <td>0.092065</td>\n",
       "    </tr>\n",
       "    <tr>\n",
       "      <th>7278</th>\n",
       "      <td>Braincels</td>\n",
       "      <td>2265413</td>\n",
       "      <td>0.032217</td>\n",
       "      <td>0.124282</td>\n",
       "    </tr>\n",
       "    <tr>\n",
       "      <th>47759</th>\n",
       "      <td>The_Donald</td>\n",
       "      <td>1467709</td>\n",
       "      <td>0.020873</td>\n",
       "      <td>0.145155</td>\n",
       "    </tr>\n",
       "    <tr>\n",
       "      <th>79432</th>\n",
       "      <td>politics</td>\n",
       "      <td>994528</td>\n",
       "      <td>0.014143</td>\n",
       "      <td>0.159298</td>\n",
       "    </tr>\n",
       "    <tr>\n",
       "      <th>...</th>\n",
       "      <td>...</td>\n",
       "      <td>...</td>\n",
       "      <td>...</td>\n",
       "      <td>...</td>\n",
       "    </tr>\n",
       "    <tr>\n",
       "      <th>22057</th>\n",
       "      <td>HistoryPorn</td>\n",
       "      <td>8804</td>\n",
       "      <td>0.000125</td>\n",
       "      <td>0.805491</td>\n",
       "    </tr>\n",
       "    <tr>\n",
       "      <th>58796</th>\n",
       "      <td>buffalobills</td>\n",
       "      <td>8753</td>\n",
       "      <td>0.000124</td>\n",
       "      <td>0.805615</td>\n",
       "    </tr>\n",
       "    <tr>\n",
       "      <th>457</th>\n",
       "      <td>3Dprinting</td>\n",
       "      <td>8738</td>\n",
       "      <td>0.000124</td>\n",
       "      <td>0.805740</td>\n",
       "    </tr>\n",
       "    <tr>\n",
       "      <th>20082</th>\n",
       "      <td>Glitch_in_the_Matrix</td>\n",
       "      <td>8737</td>\n",
       "      <td>0.000124</td>\n",
       "      <td>0.805864</td>\n",
       "    </tr>\n",
       "    <tr>\n",
       "      <th>15174</th>\n",
       "      <td>Egalitarianism</td>\n",
       "      <td>8735</td>\n",
       "      <td>0.000124</td>\n",
       "      <td>0.805988</td>\n",
       "    </tr>\n",
       "  </tbody>\n",
       "</table>\n",
       "<p>1025 rows × 4 columns</p>\n",
       "</div>"
      ],
      "text/plain": [
       "                  subreddit    count      perc  cum_perc\n",
       "4050              AskReddit  3866495  0.054987  0.054987\n",
       "28654                 MGTOW  2607226  0.037078  0.092065\n",
       "7278              Braincels  2265413  0.032217  0.124282\n",
       "47759            The_Donald  1467709  0.020873  0.145155\n",
       "79432              politics   994528  0.014143  0.159298\n",
       "...                     ...      ...       ...       ...\n",
       "22057           HistoryPorn     8804  0.000125  0.805491\n",
       "58796          buffalobills     8753  0.000124  0.805615\n",
       "457              3Dprinting     8738  0.000124  0.805740\n",
       "20082  Glitch_in_the_Matrix     8737  0.000124  0.805864\n",
       "15174        Egalitarianism     8735  0.000124  0.805988\n",
       "\n",
       "[1025 rows x 4 columns]"
      ]
     },
     "execution_count": 46,
     "metadata": {},
     "output_type": "execute_result"
    }
   ],
   "source": [
    "count_df[count_df[\"count\"] >= 8724]"
   ]
  },
  {
   "cell_type": "code",
   "execution_count": 37,
   "id": "5f5fa568",
   "metadata": {},
   "outputs": [
    {
     "data": {
      "text/html": [
       "<div>\n",
       "<style scoped>\n",
       "    .dataframe tbody tr th:only-of-type {\n",
       "        vertical-align: middle;\n",
       "    }\n",
       "\n",
       "    .dataframe tbody tr th {\n",
       "        vertical-align: top;\n",
       "    }\n",
       "\n",
       "    .dataframe thead th {\n",
       "        text-align: right;\n",
       "    }\n",
       "</style>\n",
       "<table border=\"1\" class=\"dataframe\">\n",
       "  <thead>\n",
       "    <tr style=\"text-align: right;\">\n",
       "      <th></th>\n",
       "      <th>subreddit</th>\n",
       "      <th>count</th>\n",
       "      <th>perc</th>\n",
       "      <th>cum_perc</th>\n",
       "    </tr>\n",
       "  </thead>\n",
       "  <tbody>\n",
       "    <tr>\n",
       "      <th>4050</th>\n",
       "      <td>AskReddit</td>\n",
       "      <td>3866495</td>\n",
       "      <td>0.054987</td>\n",
       "      <td>0.054987</td>\n",
       "    </tr>\n",
       "    <tr>\n",
       "      <th>28654</th>\n",
       "      <td>MGTOW</td>\n",
       "      <td>2607226</td>\n",
       "      <td>0.037078</td>\n",
       "      <td>0.092065</td>\n",
       "    </tr>\n",
       "    <tr>\n",
       "      <th>7278</th>\n",
       "      <td>Braincels</td>\n",
       "      <td>2265413</td>\n",
       "      <td>0.032217</td>\n",
       "      <td>0.124282</td>\n",
       "    </tr>\n",
       "    <tr>\n",
       "      <th>47759</th>\n",
       "      <td>The_Donald</td>\n",
       "      <td>1467709</td>\n",
       "      <td>0.020873</td>\n",
       "      <td>0.145155</td>\n",
       "    </tr>\n",
       "    <tr>\n",
       "      <th>79432</th>\n",
       "      <td>politics</td>\n",
       "      <td>994528</td>\n",
       "      <td>0.014143</td>\n",
       "      <td>0.159298</td>\n",
       "    </tr>\n",
       "    <tr>\n",
       "      <th>...</th>\n",
       "      <td>...</td>\n",
       "      <td>...</td>\n",
       "      <td>...</td>\n",
       "      <td>...</td>\n",
       "    </tr>\n",
       "    <tr>\n",
       "      <th>62232</th>\n",
       "      <td>dashcamgifs</td>\n",
       "      <td>2663</td>\n",
       "      <td>0.000038</td>\n",
       "      <td>0.899836</td>\n",
       "    </tr>\n",
       "    <tr>\n",
       "      <th>80665</th>\n",
       "      <td>rantgrumps</td>\n",
       "      <td>2662</td>\n",
       "      <td>0.000038</td>\n",
       "      <td>0.899873</td>\n",
       "    </tr>\n",
       "    <tr>\n",
       "      <th>165</th>\n",
       "      <td>1984isreality</td>\n",
       "      <td>2662</td>\n",
       "      <td>0.000038</td>\n",
       "      <td>0.899911</td>\n",
       "    </tr>\n",
       "    <tr>\n",
       "      <th>86353</th>\n",
       "      <td>test</td>\n",
       "      <td>2661</td>\n",
       "      <td>0.000038</td>\n",
       "      <td>0.899949</td>\n",
       "    </tr>\n",
       "    <tr>\n",
       "      <th>102121</th>\n",
       "      <td>yiff</td>\n",
       "      <td>2659</td>\n",
       "      <td>0.000038</td>\n",
       "      <td>0.899987</td>\n",
       "    </tr>\n",
       "  </tbody>\n",
       "</table>\n",
       "<p>2392 rows × 4 columns</p>\n",
       "</div>"
      ],
      "text/plain": [
       "            subreddit    count      perc  cum_perc\n",
       "4050        AskReddit  3866495  0.054987  0.054987\n",
       "28654           MGTOW  2607226  0.037078  0.092065\n",
       "7278        Braincels  2265413  0.032217  0.124282\n",
       "47759      The_Donald  1467709  0.020873  0.145155\n",
       "79432        politics   994528  0.014143  0.159298\n",
       "...               ...      ...       ...       ...\n",
       "62232     dashcamgifs     2663  0.000038  0.899836\n",
       "80665      rantgrumps     2662  0.000038  0.899873\n",
       "165     1984isreality     2662  0.000038  0.899911\n",
       "86353            test     2661  0.000038  0.899949\n",
       "102121           yiff     2659  0.000038  0.899987\n",
       "\n",
       "[2392 rows x 4 columns]"
      ]
     },
     "execution_count": 37,
     "metadata": {},
     "output_type": "execute_result"
    }
   ],
   "source": [
    "count_df[count_df[\"cum_perc\"] < 0.9]"
   ]
  },
  {
   "cell_type": "code",
   "execution_count": 22,
   "id": "869fbbf2",
   "metadata": {},
   "outputs": [
    {
     "data": {
      "text/plain": [
       "70005763"
      ]
     },
     "execution_count": 22,
     "metadata": {},
     "output_type": "execute_result"
    }
   ],
   "source": [
    "total_posts"
   ]
  },
  {
   "cell_type": "code",
   "execution_count": 41,
   "id": "03c53d3a",
   "metadata": {},
   "outputs": [],
   "source": [
    "cum_perc_values = test_df[\"cum_perc\"].to_list()"
   ]
  },
  {
   "cell_type": "code",
   "execution_count": 43,
   "id": "fb78418e",
   "metadata": {},
   "outputs": [],
   "source": [
    "import matplotlib.pyplot as plt"
   ]
  },
  {
   "cell_type": "code",
   "execution_count": 44,
   "id": "efdb742d",
   "metadata": {},
   "outputs": [
    {
     "data": {
      "text/plain": [
       "[<matplotlib.lines.Line2D at 0x7fce803f2640>]"
      ]
     },
     "execution_count": 44,
     "metadata": {},
     "output_type": "execute_result"
    },
    {
     "data": {
      "image/png": "[encoded data removed]",
      "text/plain": [
       "<Figure size 432x288 with 1 Axes>"
      ]
     },
     "metadata": {
      "needs_background": "light"
     },
     "output_type": "display_data"
    }
   ],
   "source": [
    "plt.plot([i+1 for i in range(len(cum_perc_values))], cum_perc_values)"
   ]
  },
  {
   "cell_type": "code",
   "execution_count": 13,
   "id": "15ae5062",
   "metadata": {},
   "outputs": [
    {
     "data": {
      "text/plain": [
       "Index(['author', 'author_created_utc', 'author_fullname', 'created_utc',\n",
       "       'crosspost_parent', 'crosspost_parent_list', 'id', 'num_comments',\n",
       "       'score', 'selftext', 'subreddit', 'subreddit_id',\n",
       "       'subreddit_subscribers', 'subreddit_type', 'title', 'permalink'],\n",
       "      dtype='object')"
      ]
     },
     "execution_count": 13,
     "metadata": {},
     "output_type": "execute_result"
    }
   ],
   "source": [
    "test_df_init.columns"
   ]
  },
  {
   "cell_type": "code",
   "execution_count": null,
   "id": "23f2a63a",
   "metadata": {},
   "outputs": [],
   "source": []
  }
 ],
 "metadata": {
  "kernelspec": {
   "display_name": "Python 3 (ipykernel)",
   "language": "python",
   "name": "python3"
  },
  "language_info": {
   "codemirror_mode": {
    "name": "ipython",
    "version": 3
   },
   "file_extension": ".py",
   "mimetype": "text/x-python",
   "name": "python",
   "nbconvert_exporter": "python",
   "pygments_lexer": "ipython3",
   "version": "3.8.10"
  }
 },
 "nbformat": 4,
 "nbformat_minor": 5
}
