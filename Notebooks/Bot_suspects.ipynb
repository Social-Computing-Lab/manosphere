{
 "cells": [
  {
   "cell_type": "code",
   "execution_count": null,
   "id": "72ba5da7",
   "metadata": {},
   "outputs": [],
   "source": [
    "import pandas as pd\n",
    "import matplotlib.pyplot as plt\n",
    "import glob\n",
    "import os\n",
    "%matplotlib inline"
   ]
  },
  {
   "cell_type": "code",
   "execution_count": null,
   "id": "cc598ca2",
   "metadata": {},
   "outputs": [],
   "source": [
    "comments_dir = \"data/dumps/comments/csv/\"\n",
    "posts_dir = \"data/dumps/posts/csv/\"\n",
    "timeframes = ['2017-07', '2017-08', '2017-09', '2017-10', '2017-11', '2017-12', '2018-01', '2018-02', '2018-03', '2018-04', '2018-05', '2018-06', '2018-07', '2018-08', '2018-09', '2018-10', '2018-11', '2018-12', '2019-01', '2019-02', '2019-03', '2019-04', '2019-05', '2019-06']"
   ]
  },
  {
   "cell_type": "code",
   "execution_count": null,
   "id": "ae4e6220",
   "metadata": {},
   "outputs": [],
   "source": [
    "merged_comments = pd.DataFrame(columns=[\"author\", \"count\"])\n",
    "merged_posts = pd.DataFrame(columns=[\"author\", \"count\"])"
   ]
  },
  {
   "cell_type": "code",
   "execution_count": null,
   "id": "f05e4a72",
   "metadata": {},
   "outputs": [],
   "source": [
    "# read all comments data one by one. count and merge to merged df\n",
    "new_df = None\n",
    "comments_count = 0\n",
    "total_comments = 0\n",
    "for time_frame in timeframes:\n",
    "    csv_file = os.path.join(comments_dir, f\"RC_{time_frame}.csv\")\n",
    "    if csv_file == \"data/new/merged_comments_count.csv\":\n",
    "        continue\n",
    "    print(csv_file)\n",
    "    new_df = pd.read_csv(csv_file)\n",
    "    total_comments += len(new_df)\n",
    "    new_df = new_df[[\"author\", \"id\"]]\n",
    "    new_df = new_df.groupby([\"author\"]).count().reset_index()\n",
    "    new_df.rename(columns={\"id\": \"count\"}, inplace=True)\n",
    "    comments_count += len(new_df)\n",
    "    merged_comments = pd.concat([merged_comments, new_df])\n",
    "    del new_df\n",
    "print(comments_count)\n",
    "print(len(merged_comments))"
   ]
  },
  {
   "cell_type": "code",
   "execution_count": null,
   "id": "08908922",
   "metadata": {},
   "outputs": [],
   "source": [
    "# read all posts data one by one. count and merge to merged df\n",
    "new_df = None\n",
    "posts_count = 0\n",
    "total_posts = 0\n",
    "for time_frame in timeframes:\n",
    "    csv_file = os.path.join(posts_dir, f\"RS_{time_frame}.csv\")\n",
    "    if csv_file == \"data/posts/new/merged_posts_count.csv\":\n",
    "        continue\n",
    "    print(csv_file)\n",
    "    new_df = pd.read_csv(csv_file)\n",
    "    total_posts += len(new_df)\n",
    "    new_df = new_df[[\"author\", \"id\"]]\n",
    "    new_df = new_df.groupby([\"author\"]).count().reset_index()\n",
    "    new_df.rename(columns={\"id\": \"count\"}, inplace=True)\n",
    "    posts_count += len(new_df)\n",
    "    merged_posts = pd.concat([merged_posts, new_df])\n",
    "    del new_df\n",
    "print(posts_count)\n",
    "print(len(merged_posts))"
   ]
  },
  {
   "cell_type": "code",
   "execution_count": null,
   "id": "54b93cde",
   "metadata": {},
   "outputs": [],
   "source": [
    "# print overall comments and posts count\n",
    "print(f\"Total comments: {total_comments}\")\n",
    "print(f\"Total posts: {total_posts}\")"
   ]
  },
  {
   "cell_type": "code",
   "execution_count": null,
   "id": "395e7f45",
   "metadata": {},
   "outputs": [],
   "source": [
    "# group merged comments to merge counts from all files\n",
    "merged_comments = merged_comments.groupby([\"author\"]).sum().reset_index()"
   ]
  },
  {
   "cell_type": "code",
   "execution_count": null,
   "id": "adbb34d8",
   "metadata": {},
   "outputs": [],
   "source": [
    "# group merged posts to merge counts from all files\n",
    "merged_posts = merged_posts.groupby([\"author\"]).sum().reset_index()"
   ]
  },
  {
   "cell_type": "code",
   "execution_count": null,
   "id": "2fd83a88",
   "metadata": {},
   "outputs": [],
   "source": [
    "print(len(merged_comments))\n",
    "print(len(merged_posts))"
   ]
  },
  {
   "cell_type": "code",
   "execution_count": null,
   "id": "d0244605",
   "metadata": {},
   "outputs": [],
   "source": [
    "#save merged counts and posts to individual files\n",
    "merged_posts.to_csv(\"data/dumps/merged/merged_posts_count.csv\")\n",
    "merged_comments.to_csv(\"data/dumps/merged/merged_comments_count.csv\")"
   ]
  },
  {
   "cell_type": "code",
   "execution_count": null,
   "id": "58c8a5d6",
   "metadata": {},
   "outputs": [],
   "source": [
    "merged_comments_posts = pd.concat([merged_comments, merged_posts])"
   ]
  },
  {
   "cell_type": "code",
   "execution_count": null,
   "id": "5b3c799a",
   "metadata": {},
   "outputs": [],
   "source": [
    "merged_comments_posts.to_csv(\"data/dumps/merged/merged_comments_posts_count.csv\")"
   ]
  },
  {
   "cell_type": "code",
   "execution_count": null,
   "id": "1c076cda",
   "metadata": {},
   "outputs": [],
   "source": [
    "len(merged_comments_posts)"
   ]
  },
  {
   "cell_type": "code",
   "execution_count": null,
   "id": "c977c918",
   "metadata": {},
   "outputs": [],
   "source": [
    "merged_comments_posts = merged_comments_posts.groupby([\"author\"]).sum().reset_index()"
   ]
  },
  {
   "cell_type": "code",
   "execution_count": null,
   "id": "5b250d9e",
   "metadata": {},
   "outputs": [],
   "source": [
    "merged_comments_posts"
   ]
  },
  {
   "cell_type": "code",
   "execution_count": null,
   "id": "9644dcc2",
   "metadata": {},
   "outputs": [],
   "source": [
    "bots_list = pd.read_csv(\"data/bots.csv\", header=None)\n",
    "bots_list = bots_list.rename(columns={0:\"bot_name\"})"
   ]
  },
  {
   "cell_type": "code",
   "execution_count": null,
   "id": "87df646a",
   "metadata": {},
   "outputs": [],
   "source": [
    "bots_list.head()"
   ]
  },
  {
   "cell_type": "code",
   "execution_count": null,
   "id": "5c851dd5",
   "metadata": {},
   "outputs": [],
   "source": [
    "bots_in_data = merged_comments_posts[merged_comments_posts[\"author\"].isin(bots_list[\"bot_name\"].tolist())][[\"author\"]]\n",
    "bots_in_data.append([{\"author\": \"AutoModerator\"}, {\"author\": \"[deleted]\"}], ignore_index=True)\n",
    "bots_in_data.to_csv(\"data/dumps/bots_in_data.csv\", index=False)\n"
   ]
  }
 ],
 "metadata": {
  "kernelspec": {
   "display_name": "Python 3 (ipykernel)",
   "language": "python",
   "name": "python3"
  },
  "language_info": {
   "codemirror_mode": {
    "name": "ipython",
    "version": 3
   },
   "file_extension": ".py",
   "mimetype": "text/x-python",
   "name": "python",
   "nbconvert_exporter": "python",
   "pygments_lexer": "ipython3",
   "version": "3.8.10"
  }
 },
 "nbformat": 4,
 "nbformat_minor": 5
}
